{
 "cells": [
  {
   "cell_type": "markdown",
   "id": "0400ddd5",
   "metadata": {},
   "source": [
    "# Importing Libraries"
   ]
  },
  {
   "cell_type": "code",
   "execution_count": 35,
   "id": "a5a328bd",
   "metadata": {},
   "outputs": [],
   "source": [
    "import pandas as pd\n",
    "import numpy as np\n",
    "import matplotlib.pyplot as plt\n",
    "import seaborn as sns\n",
    "\n",
    "import requests\n",
    "from tqdm.notebook import tqdm\n",
    "import spacy\n",
    "nlp = spacy.load(\"en_core_web_sm\")"
   ]
  },
  {
   "cell_type": "markdown",
   "id": "e3cb670f",
   "metadata": {},
   "source": [
    "# Reading in the excel data"
   ]
  },
  {
   "cell_type": "code",
   "execution_count": 3,
   "id": "8b63373a",
   "metadata": {},
   "outputs": [],
   "source": [
    "df = pd.read_excel('Airplane_Crashes_and_Fatalities_Since_1908.xlsx')"
   ]
  },
  {
   "cell_type": "code",
   "execution_count": 4,
   "id": "1ca50f31",
   "metadata": {},
   "outputs": [
    {
     "data": {
      "text/html": [
       "<div>\n",
       "<style scoped>\n",
       "    .dataframe tbody tr th:only-of-type {\n",
       "        vertical-align: middle;\n",
       "    }\n",
       "\n",
       "    .dataframe tbody tr th {\n",
       "        vertical-align: top;\n",
       "    }\n",
       "\n",
       "    .dataframe thead th {\n",
       "        text-align: right;\n",
       "    }\n",
       "</style>\n",
       "<table border=\"1\" class=\"dataframe\">\n",
       "  <thead>\n",
       "    <tr style=\"text-align: right;\">\n",
       "      <th></th>\n",
       "      <th>Date</th>\n",
       "      <th>Time</th>\n",
       "      <th>Location</th>\n",
       "      <th>Operator</th>\n",
       "      <th>Flight #</th>\n",
       "      <th>Route</th>\n",
       "      <th>Type</th>\n",
       "      <th>Registration</th>\n",
       "      <th>cn/In</th>\n",
       "      <th>Aboard</th>\n",
       "      <th>Fatalities</th>\n",
       "      <th>Ground</th>\n",
       "      <th>Summary</th>\n",
       "    </tr>\n",
       "  </thead>\n",
       "  <tbody>\n",
       "    <tr>\n",
       "      <th>0</th>\n",
       "      <td>1908-09-17</td>\n",
       "      <td>17:18:00</td>\n",
       "      <td>Fort Myer, Virginia</td>\n",
       "      <td>Military - U.S. Army</td>\n",
       "      <td>NaN</td>\n",
       "      <td>Demonstration</td>\n",
       "      <td>Wright Flyer III</td>\n",
       "      <td>NaN</td>\n",
       "      <td>1</td>\n",
       "      <td>2.0</td>\n",
       "      <td>1.0</td>\n",
       "      <td>0.0</td>\n",
       "      <td>During a demonstration flight, a U.S. Army fly...</td>\n",
       "    </tr>\n",
       "    <tr>\n",
       "      <th>1</th>\n",
       "      <td>1912-07-12</td>\n",
       "      <td>06:30:00</td>\n",
       "      <td>AtlantiCity, New Jersey</td>\n",
       "      <td>Military - U.S. Navy</td>\n",
       "      <td>NaN</td>\n",
       "      <td>Test flight</td>\n",
       "      <td>Dirigible</td>\n",
       "      <td>NaN</td>\n",
       "      <td>NaN</td>\n",
       "      <td>5.0</td>\n",
       "      <td>5.0</td>\n",
       "      <td>0.0</td>\n",
       "      <td>First U.S. dirigible Akron exploded just offsh...</td>\n",
       "    </tr>\n",
       "    <tr>\n",
       "      <th>2</th>\n",
       "      <td>1913-08-06</td>\n",
       "      <td>NaN</td>\n",
       "      <td>Victoria, British Columbia, Canada</td>\n",
       "      <td>Private</td>\n",
       "      <td>-</td>\n",
       "      <td>NaN</td>\n",
       "      <td>Curtiss seaplane</td>\n",
       "      <td>NaN</td>\n",
       "      <td>NaN</td>\n",
       "      <td>1.0</td>\n",
       "      <td>1.0</td>\n",
       "      <td>0.0</td>\n",
       "      <td>The first fatal airplane accident in Canada oc...</td>\n",
       "    </tr>\n",
       "    <tr>\n",
       "      <th>3</th>\n",
       "      <td>1913-09-09</td>\n",
       "      <td>18:30:00</td>\n",
       "      <td>Over the North Sea</td>\n",
       "      <td>Military - German Navy</td>\n",
       "      <td>NaN</td>\n",
       "      <td>NaN</td>\n",
       "      <td>Zeppelin L-1 (airship)</td>\n",
       "      <td>NaN</td>\n",
       "      <td>NaN</td>\n",
       "      <td>20.0</td>\n",
       "      <td>14.0</td>\n",
       "      <td>0.0</td>\n",
       "      <td>The airship flew into a thunderstorm and encou...</td>\n",
       "    </tr>\n",
       "    <tr>\n",
       "      <th>4</th>\n",
       "      <td>1913-10-17</td>\n",
       "      <td>10:30:00</td>\n",
       "      <td>Near Johannisthal, Germany</td>\n",
       "      <td>Military - German Navy</td>\n",
       "      <td>NaN</td>\n",
       "      <td>NaN</td>\n",
       "      <td>Zeppelin L-2 (airship)</td>\n",
       "      <td>NaN</td>\n",
       "      <td>NaN</td>\n",
       "      <td>30.0</td>\n",
       "      <td>30.0</td>\n",
       "      <td>0.0</td>\n",
       "      <td>Hydrogen gas which was being vented was sucked...</td>\n",
       "    </tr>\n",
       "  </tbody>\n",
       "</table>\n",
       "</div>"
      ],
      "text/plain": [
       "        Date      Time                            Location  \\\n",
       "0 1908-09-17  17:18:00                 Fort Myer, Virginia   \n",
       "1 1912-07-12  06:30:00             AtlantiCity, New Jersey   \n",
       "2 1913-08-06       NaN  Victoria, British Columbia, Canada   \n",
       "3 1913-09-09  18:30:00                  Over the North Sea   \n",
       "4 1913-10-17  10:30:00          Near Johannisthal, Germany   \n",
       "\n",
       "                 Operator Flight #          Route                    Type  \\\n",
       "0    Military - U.S. Army      NaN  Demonstration        Wright Flyer III   \n",
       "1    Military - U.S. Navy      NaN    Test flight               Dirigible   \n",
       "2                 Private        -            NaN        Curtiss seaplane   \n",
       "3  Military - German Navy      NaN            NaN  Zeppelin L-1 (airship)   \n",
       "4  Military - German Navy      NaN            NaN  Zeppelin L-2 (airship)   \n",
       "\n",
       "  Registration cn/In  Aboard  Fatalities  Ground  \\\n",
       "0          NaN     1     2.0         1.0     0.0   \n",
       "1          NaN   NaN     5.0         5.0     0.0   \n",
       "2          NaN   NaN     1.0         1.0     0.0   \n",
       "3          NaN   NaN    20.0        14.0     0.0   \n",
       "4          NaN   NaN    30.0        30.0     0.0   \n",
       "\n",
       "                                             Summary  \n",
       "0  During a demonstration flight, a U.S. Army fly...  \n",
       "1  First U.S. dirigible Akron exploded just offsh...  \n",
       "2  The first fatal airplane accident in Canada oc...  \n",
       "3  The airship flew into a thunderstorm and encou...  \n",
       "4  Hydrogen gas which was being vented was sucked...  "
      ]
     },
     "execution_count": 4,
     "metadata": {},
     "output_type": "execute_result"
    }
   ],
   "source": [
    "df.head()"
   ]
  },
  {
   "cell_type": "code",
   "execution_count": 5,
   "id": "4286169f",
   "metadata": {},
   "outputs": [
    {
     "name": "stdout",
     "output_type": "stream",
     "text": [
      "<class 'pandas.core.frame.DataFrame'>\n",
      "RangeIndex: 5268 entries, 0 to 5267\n",
      "Data columns (total 13 columns):\n",
      " #   Column        Non-Null Count  Dtype         \n",
      "---  ------        --------------  -----         \n",
      " 0   Date          5268 non-null   datetime64[ns]\n",
      " 1   Time          3049 non-null   object        \n",
      " 2   Location      5248 non-null   object        \n",
      " 3   Operator      5250 non-null   object        \n",
      " 4   Flight #      1069 non-null   object        \n",
      " 5   Route         3562 non-null   object        \n",
      " 6   Type          5241 non-null   object        \n",
      " 7   Registration  4933 non-null   object        \n",
      " 8   cn/In         4040 non-null   object        \n",
      " 9   Aboard        5246 non-null   float64       \n",
      " 10  Fatalities    5256 non-null   float64       \n",
      " 11  Ground        5246 non-null   float64       \n",
      " 12  Summary       4878 non-null   object        \n",
      "dtypes: datetime64[ns](1), float64(3), object(9)\n",
      "memory usage: 535.2+ KB\n"
     ]
    }
   ],
   "source": [
    "df.info()"
   ]
  },
  {
   "cell_type": "markdown",
   "id": "837851fd",
   "metadata": {},
   "source": [
    "# Creating a function to get the country code for the location of the crash"
   ]
  },
  {
   "cell_type": "code",
   "execution_count": 31,
   "id": "d1418568",
   "metadata": {},
   "outputs": [],
   "source": [
    "URL = \"https://geocoder.ls.hereapi.com/search/6.2/geocode.json\"\n",
    "api_key = 'XXXXXXXXXXXXXXXXXXXXXXXXXXXXXXXXXXXXXX'  # Acquire api key from developer.here.com\n",
    "\n",
    "def getCoordinates(location):\n",
    "    PARAMS = {'searchtext': location, 'apikey': api_key} # required parameters\n",
    "    r = requests.get(url=URL, params=PARAMS)  # pass in required parameters\n",
    "    data = r.json() # Raw json file\n",
    "    try:\n",
    "        country = data['Response']['View'][0]['Result'][0]['Location']['Address']['Country']\n",
    "        return country\n",
    "    except:\n",
    "        return 'Unknown'"
   ]
  },
  {
   "cell_type": "code",
   "execution_count": null,
   "id": "656cc695",
   "metadata": {},
   "outputs": [],
   "source": [
    "data = df.copy().reset_index()\n",
    "\n",
    "hereloc = {}"
   ]
  },
  {
   "cell_type": "code",
   "execution_count": 63,
   "id": "7e56467e",
   "metadata": {},
   "outputs": [
    {
     "data": {
      "application/vnd.jupyter.widget-view+json": {
       "model_id": "eb79deec63de44678a23068b73e33e61",
       "version_major": 2,
       "version_minor": 0
      },
      "text/plain": [
       "  0%|          | 0/2428 [00:00<?, ?it/s]"
      ]
     },
     "metadata": {},
     "output_type": "display_data"
    }
   ],
   "source": [
    "#This would take at least 1 hr to run so you can use the incomplete.xlsx file and follow along\n",
    "for i, row in tqdm(data.iterrows(), total=len(data), miniters=1):\n",
    "    myid = row['index']\n",
    "    locate = row['Location']\n",
    "\n",
    "    country_code = getCoordinates(locate)\n",
    "    hereloc[myid] = [country_code]"
   ]
  },
  {
   "cell_type": "code",
   "execution_count": 78,
   "id": "c467754e",
   "metadata": {},
   "outputs": [],
   "source": [
    "df['country_code'] = pd.DataFrame.from_dict(hereloc, orient='index')"
   ]
  },
  {
   "cell_type": "markdown",
   "id": "0e8ae20d",
   "metadata": {},
   "source": [
    "Viewing the new dataframe"
   ]
  },
  {
   "cell_type": "code",
   "execution_count": 217,
   "id": "0ab35f98",
   "metadata": {},
   "outputs": [
    {
     "data": {
      "text/html": [
       "<div>\n",
       "<style scoped>\n",
       "    .dataframe tbody tr th:only-of-type {\n",
       "        vertical-align: middle;\n",
       "    }\n",
       "\n",
       "    .dataframe tbody tr th {\n",
       "        vertical-align: top;\n",
       "    }\n",
       "\n",
       "    .dataframe thead th {\n",
       "        text-align: right;\n",
       "    }\n",
       "</style>\n",
       "<table border=\"1\" class=\"dataframe\">\n",
       "  <thead>\n",
       "    <tr style=\"text-align: right;\">\n",
       "      <th></th>\n",
       "      <th>Date</th>\n",
       "      <th>Time</th>\n",
       "      <th>Location</th>\n",
       "      <th>Operator</th>\n",
       "      <th>Flight #</th>\n",
       "      <th>Route</th>\n",
       "      <th>Type</th>\n",
       "      <th>Registration</th>\n",
       "      <th>cn/In</th>\n",
       "      <th>Aboard</th>\n",
       "      <th>Fatalities</th>\n",
       "      <th>Ground</th>\n",
       "      <th>Summary</th>\n",
       "      <th>country_code</th>\n",
       "    </tr>\n",
       "  </thead>\n",
       "  <tbody>\n",
       "    <tr>\n",
       "      <th>0</th>\n",
       "      <td>1908-09-17</td>\n",
       "      <td>17:18:00</td>\n",
       "      <td>Fort Myer, Virginia</td>\n",
       "      <td>Military - U.S. Army</td>\n",
       "      <td>NaN</td>\n",
       "      <td>Demonstration</td>\n",
       "      <td>Wright Flyer III</td>\n",
       "      <td>NaN</td>\n",
       "      <td>1</td>\n",
       "      <td>2.0</td>\n",
       "      <td>1.0</td>\n",
       "      <td>0.0</td>\n",
       "      <td>During a demonstration flight, a U.S. Army fly...</td>\n",
       "      <td>USA</td>\n",
       "    </tr>\n",
       "    <tr>\n",
       "      <th>1</th>\n",
       "      <td>1912-07-12</td>\n",
       "      <td>06:30:00</td>\n",
       "      <td>AtlantiCity, New Jersey</td>\n",
       "      <td>Military - U.S. Navy</td>\n",
       "      <td>NaN</td>\n",
       "      <td>Test flight</td>\n",
       "      <td>Dirigible</td>\n",
       "      <td>NaN</td>\n",
       "      <td>NaN</td>\n",
       "      <td>5.0</td>\n",
       "      <td>5.0</td>\n",
       "      <td>0.0</td>\n",
       "      <td>First U.S. dirigible Akron exploded just offsh...</td>\n",
       "      <td>USA</td>\n",
       "    </tr>\n",
       "    <tr>\n",
       "      <th>2</th>\n",
       "      <td>1913-08-06</td>\n",
       "      <td>NaN</td>\n",
       "      <td>Victoria, British Columbia, Canada</td>\n",
       "      <td>Private</td>\n",
       "      <td>-</td>\n",
       "      <td>NaN</td>\n",
       "      <td>Curtiss seaplane</td>\n",
       "      <td>NaN</td>\n",
       "      <td>NaN</td>\n",
       "      <td>1.0</td>\n",
       "      <td>1.0</td>\n",
       "      <td>0.0</td>\n",
       "      <td>The first fatal airplane accident in Canada oc...</td>\n",
       "      <td>CAN</td>\n",
       "    </tr>\n",
       "    <tr>\n",
       "      <th>3</th>\n",
       "      <td>1913-09-09</td>\n",
       "      <td>18:30:00</td>\n",
       "      <td>Over the North Sea</td>\n",
       "      <td>Military - German Navy</td>\n",
       "      <td>NaN</td>\n",
       "      <td>NaN</td>\n",
       "      <td>Zeppelin L-1 (airship)</td>\n",
       "      <td>NaN</td>\n",
       "      <td>NaN</td>\n",
       "      <td>20.0</td>\n",
       "      <td>14.0</td>\n",
       "      <td>0.0</td>\n",
       "      <td>The airship flew into a thunderstorm and encou...</td>\n",
       "      <td>Unknown</td>\n",
       "    </tr>\n",
       "    <tr>\n",
       "      <th>4</th>\n",
       "      <td>1913-10-17</td>\n",
       "      <td>10:30:00</td>\n",
       "      <td>Near Johannisthal, Germany</td>\n",
       "      <td>Military - German Navy</td>\n",
       "      <td>NaN</td>\n",
       "      <td>NaN</td>\n",
       "      <td>Zeppelin L-2 (airship)</td>\n",
       "      <td>NaN</td>\n",
       "      <td>NaN</td>\n",
       "      <td>30.0</td>\n",
       "      <td>30.0</td>\n",
       "      <td>0.0</td>\n",
       "      <td>Hydrogen gas which was being vented was sucked...</td>\n",
       "      <td>DEU</td>\n",
       "    </tr>\n",
       "  </tbody>\n",
       "</table>\n",
       "</div>"
      ],
      "text/plain": [
       "        Date      Time                            Location  \\\n",
       "0 1908-09-17  17:18:00                 Fort Myer, Virginia   \n",
       "1 1912-07-12  06:30:00             AtlantiCity, New Jersey   \n",
       "2 1913-08-06       NaN  Victoria, British Columbia, Canada   \n",
       "3 1913-09-09  18:30:00                  Over the North Sea   \n",
       "4 1913-10-17  10:30:00          Near Johannisthal, Germany   \n",
       "\n",
       "                 Operator Flight #          Route                    Type  \\\n",
       "0    Military - U.S. Army      NaN  Demonstration        Wright Flyer III   \n",
       "1    Military - U.S. Navy      NaN    Test flight               Dirigible   \n",
       "2                 Private        -            NaN        Curtiss seaplane   \n",
       "3  Military - German Navy      NaN            NaN  Zeppelin L-1 (airship)   \n",
       "4  Military - German Navy      NaN            NaN  Zeppelin L-2 (airship)   \n",
       "\n",
       "  Registration cn/In  Aboard  Fatalities  Ground  \\\n",
       "0          NaN     1     2.0         1.0     0.0   \n",
       "1          NaN   NaN     5.0         5.0     0.0   \n",
       "2          NaN   NaN     1.0         1.0     0.0   \n",
       "3          NaN   NaN    20.0        14.0     0.0   \n",
       "4          NaN   NaN    30.0        30.0     0.0   \n",
       "\n",
       "                                             Summary country_code  \n",
       "0  During a demonstration flight, a U.S. Army fly...          USA  \n",
       "1  First U.S. dirigible Akron exploded just offsh...          USA  \n",
       "2  The first fatal airplane accident in Canada oc...          CAN  \n",
       "3  The airship flew into a thunderstorm and encou...      Unknown  \n",
       "4  Hydrogen gas which was being vented was sucked...          DEU  "
      ]
     },
     "execution_count": 217,
     "metadata": {},
     "output_type": "execute_result"
    }
   ],
   "source": [
    "df.head()"
   ]
  },
  {
   "cell_type": "markdown",
   "id": "5363de9b",
   "metadata": {},
   "source": [
    "# Text Clustering"
   ]
  },
  {
   "cell_type": "markdown",
   "id": "e84ffec9",
   "metadata": {},
   "source": [
    "This function was to get the lower case root version of each word in the summary column"
   ]
  },
  {
   "cell_type": "code",
   "execution_count": 893,
   "id": "fe59ecb1",
   "metadata": {},
   "outputs": [],
   "source": [
    "def stem_punct_stop(word):\n",
    "    lt = []\n",
    "    for tokens in nlp(word):\n",
    "        if (tokens.is_punct) | (tokens.pos_ == 'NUM') | (tokens.is_stop):\n",
    "            #checking if the word is a punctuation, a number or a stopword\n",
    "            continue\n",
    "        lt.append(tokens.lemma_.lower())\n",
    "    return ' '.join(lt)"
   ]
  },
  {
   "cell_type": "code",
   "execution_count": 894,
   "id": "d345edde",
   "metadata": {},
   "outputs": [],
   "source": [
    "lem_text = df['Summary'].dropna().apply(stem_punct_stop)"
   ]
  },
  {
   "cell_type": "markdown",
   "id": "4d11083f",
   "metadata": {},
   "source": [
    "KMeans generally only works with numbers so we'll use an extraction tool to get numbers.\n",
    "\n",
    "The feature extraction tool used is TF-IDF, which is a numerical statistic. The term frequency and inverse document frequency are used in this statistic."
   ]
  },
  {
   "cell_type": "code",
   "execution_count": 895,
   "id": "e3660265",
   "metadata": {},
   "outputs": [],
   "source": [
    "from sklearn.cluster import KMeans\n",
    "from sklearn.feature_extraction.text import TfidfVectorizer\n",
    "from kneed import KneeLocator #to locate the elbow (number of clusters)"
   ]
  },
  {
   "cell_type": "code",
   "execution_count": 896,
   "id": "dae1b96c",
   "metadata": {},
   "outputs": [],
   "source": [
    "text = list(lem_text)\n",
    "\n",
    "tv = TfidfVectorizer(stop_words='english')\n",
    "X = tv.fit_transform(text)"
   ]
  },
  {
   "cell_type": "markdown",
   "id": "4f3694d7",
   "metadata": {},
   "source": [
    "Steps involved in choosing the number of clusters to use"
   ]
  },
  {
   "cell_type": "code",
   "execution_count": 902,
   "id": "1dc79578",
   "metadata": {},
   "outputs": [],
   "source": [
    "ses = []\n",
    "for k in range(1, 15):\n",
    "    kmeans = KMeans(n_clusters=k)\n",
    "    kmeans.fit(X)\n",
    "    ses.append(kmeans.inertia_)"
   ]
  },
  {
   "cell_type": "code",
   "execution_count": 903,
   "id": "7011b2bd",
   "metadata": {},
   "outputs": [
    {
     "data": {
      "text/plain": [
       "Text(0, 0.5, 'SES')"
      ]
     },
     "execution_count": 903,
     "metadata": {},
     "output_type": "execute_result"
    },
    {
     "data": {
      "image/png": "[encoded data removed]",
      "text/plain": [
       "<Figure size 432x288 with 1 Axes>"
      ]
     },
     "metadata": {},
     "output_type": "display_data"
    }
   ],
   "source": [
    "plt.plot(range(1, 15), ses)\n",
    "plt.xticks(range(1, 15))\n",
    "plt.xlabel(\"Number of Clusters\")\n",
    "plt.ylabel(\"SES\")"
   ]
  },
  {
   "cell_type": "code",
   "execution_count": 904,
   "id": "8ff9d1d9",
   "metadata": {},
   "outputs": [
    {
     "data": {
      "text/plain": [
       "6"
      ]
     },
     "execution_count": 904,
     "metadata": {},
     "output_type": "execute_result"
    }
   ],
   "source": [
    "# To locate the elbow, i.e. the recommended number of clusters to use\n",
    "KneeLocator(range(1, 15), ses, curve=\"convex\", direction=\"decreasing\").elbow"
   ]
  },
  {
   "cell_type": "code",
   "execution_count": 905,
   "id": "25320c18",
   "metadata": {},
   "outputs": [
    {
     "data": {
      "text/plain": [
       "KMeans(n_clusters=6, random_state=2)"
      ]
     },
     "execution_count": 905,
     "metadata": {},
     "output_type": "execute_result"
    }
   ],
   "source": [
    "model = KMeans(n_clusters=6, random_state=2)\n",
    "model.fit(X)"
   ]
  },
  {
   "cell_type": "code",
   "execution_count": 906,
   "id": "6ba43568",
   "metadata": {},
   "outputs": [
    {
     "data": {
      "text/plain": [
       "(6, 7669)"
      ]
     },
     "execution_count": 906,
     "metadata": {},
     "output_type": "execute_result"
    }
   ],
   "source": [
    "model.cluster_centers_.argsort().shape"
   ]
  },
  {
   "cell_type": "code",
   "execution_count": 1174,
   "id": "7ea61f09",
   "metadata": {},
   "outputs": [
    {
     "name": "stdout",
     "output_type": "stream",
     "text": [
      "\n",
      "\n",
      "Cluster 0\n",
      "en\n",
      "route\n",
      "crash\n",
      "mountain\n",
      "disappear\n",
      "plane\n",
      "cargo\n",
      "wreckage\n",
      "aircraft\n",
      "mountainous\n",
      "poor\n",
      "terrain\n",
      "weather\n",
      "strike\n",
      "miss\n",
      "mt\n",
      "undetermined\n",
      "flight\n",
      "sea\n",
      "mail\n",
      "\n",
      "\n",
      "Cluster 1\n",
      "approach\n",
      "runway\n",
      "crash\n",
      "land\n",
      "attempt\n",
      "plane\n",
      "short\n",
      "cargo\n",
      "aircraft\n",
      "landing\n",
      "fog\n",
      "strike\n",
      "tree\n",
      "pilot\n",
      "crew\n",
      "airport\n",
      "ground\n",
      "heavy\n",
      "altitude\n",
      "final\n",
      "\n",
      "\n",
      "Cluster 2\n",
      "crash\n",
      "aircraft\n",
      "plane\n",
      "pilot\n",
      "flight\n",
      "control\n",
      "fly\n",
      "sea\n",
      "crew\n",
      "cause\n",
      "ground\n",
      "shoot\n",
      "air\n",
      "altitude\n",
      "kill\n",
      "failure\n",
      "airport\n",
      "mile\n",
      "ft\n",
      "shortly\n",
      "\n",
      "\n",
      "Cluster 3\n",
      "mountain\n",
      "crash\n",
      "strike\n",
      "fly\n",
      "ft\n",
      "poor\n",
      "plane\n",
      "cargo\n",
      "fog\n",
      "approach\n",
      "weather\n",
      "course\n",
      "hit\n",
      "cloud\n",
      "aircraft\n",
      "visibility\n",
      "attempt\n",
      "mile\n",
      "shortly\n",
      "obscure\n",
      "\n",
      "\n",
      "Cluster 4\n",
      "weather\n",
      "condition\n",
      "vfr\n",
      "adverse\n",
      "poor\n",
      "flight\n",
      "continued\n",
      "pilot\n",
      "crash\n",
      "fly\n",
      "mountain\n",
      "ifr\n",
      "low\n",
      "terrain\n",
      "route\n",
      "attempt\n",
      "fog\n",
      "en\n",
      "altitude\n",
      "plane\n",
      "\n",
      "\n",
      "Cluster 5\n",
      "engine\n",
      "takeoff\n",
      "crash\n",
      "failure\n",
      "shortly\n",
      "plane\n",
      "lose\n",
      "aircraft\n",
      "emergency\n",
      "fail\n",
      "landing\n",
      "power\n",
      "right\n",
      "experience\n",
      "return\n",
      "cargo\n",
      "fuel\n",
      "left\n",
      "airport\n",
      "pilot\n"
     ]
    }
   ],
   "source": [
    "print('Most common terms')\n",
    "order_centroids = model.cluster_centers_.argsort()[:,::-1] #Sort cluster centers by proximity to centroid\n",
    "terms = tv.get_feature_names() #To get the word\n",
    "\n",
    "for i in range(6):\n",
    "    print('\\n')\n",
    "    print(f'Cluster {i}')\n",
    "    for j in order_centroids[i, :20]:\n",
    "        print(f'{terms[j]}')"
   ]
  },
  {
   "cell_type": "code",
   "execution_count": 912,
   "id": "74909abe",
   "metadata": {},
   "outputs": [
    {
     "data": {
      "text/plain": [
       "2    2650\n",
       "1     874\n",
       "5     613\n",
       "4     276\n",
       "0     233\n",
       "3     232\n",
       "dtype: int64"
      ]
     },
     "execution_count": 912,
     "metadata": {},
     "output_type": "execute_result"
    }
   ],
   "source": [
    "pd.DataFrame(model.labels_).value_counts() #Most common cluster"
   ]
  },
  {
   "cell_type": "markdown",
   "id": "06d19a7d",
   "metadata": {},
   "source": [
    "To test the clusters with words"
   ]
  },
  {
   "cell_type": "code",
   "execution_count": 1196,
   "id": "1ec0dee7",
   "metadata": {},
   "outputs": [
    {
     "data": {
      "text/plain": [
       "array([5])"
      ]
     },
     "execution_count": 1196,
     "metadata": {},
     "output_type": "execute_result"
    }
   ],
   "source": [
    "word = stem_punct_stop(nlp('engine failure'))\n",
    "\n",
    "model.predict(tv.transform([word]))"
   ]
  },
  {
   "cell_type": "markdown",
   "id": "bbcaa88c",
   "metadata": {},
   "source": [
    "# Adding the cluster column to the dataframe and saving"
   ]
  },
  {
   "cell_type": "code",
   "execution_count": 923,
   "id": "c9576afc",
   "metadata": {},
   "outputs": [],
   "source": [
    "sum_index = df['Summary'].dropna().index"
   ]
  },
  {
   "cell_type": "code",
   "execution_count": 924,
   "id": "3e242a07",
   "metadata": {},
   "outputs": [],
   "source": [
    "cluster_df = df[['Summary']].join(pd.DataFrame(model.labels_, index=sum_index, columns=['model']))"
   ]
  },
  {
   "cell_type": "code",
   "execution_count": 925,
   "id": "79d4628c",
   "metadata": {},
   "outputs": [
    {
     "data": {
      "text/html": [
       "<div>\n",
       "<style scoped>\n",
       "    .dataframe tbody tr th:only-of-type {\n",
       "        vertical-align: middle;\n",
       "    }\n",
       "\n",
       "    .dataframe tbody tr th {\n",
       "        vertical-align: top;\n",
       "    }\n",
       "\n",
       "    .dataframe thead th {\n",
       "        text-align: right;\n",
       "    }\n",
       "</style>\n",
       "<table border=\"1\" class=\"dataframe\">\n",
       "  <thead>\n",
       "    <tr style=\"text-align: right;\">\n",
       "      <th></th>\n",
       "      <th>Summary</th>\n",
       "      <th>model</th>\n",
       "    </tr>\n",
       "  </thead>\n",
       "  <tbody>\n",
       "    <tr>\n",
       "      <th>0</th>\n",
       "      <td>During a demonstration flight, a U.S. Army fly...</td>\n",
       "      <td>2.0</td>\n",
       "    </tr>\n",
       "    <tr>\n",
       "      <th>1</th>\n",
       "      <td>First U.S. dirigible Akron exploded just offsh...</td>\n",
       "      <td>2.0</td>\n",
       "    </tr>\n",
       "    <tr>\n",
       "      <th>2</th>\n",
       "      <td>The first fatal airplane accident in Canada oc...</td>\n",
       "      <td>2.0</td>\n",
       "    </tr>\n",
       "    <tr>\n",
       "      <th>3</th>\n",
       "      <td>The airship flew into a thunderstorm and encou...</td>\n",
       "      <td>2.0</td>\n",
       "    </tr>\n",
       "    <tr>\n",
       "      <th>4</th>\n",
       "      <td>Hydrogen gas which was being vented was sucked...</td>\n",
       "      <td>2.0</td>\n",
       "    </tr>\n",
       "  </tbody>\n",
       "</table>\n",
       "</div>"
      ],
      "text/plain": [
       "                                             Summary  model\n",
       "0  During a demonstration flight, a U.S. Army fly...    2.0\n",
       "1  First U.S. dirigible Akron exploded just offsh...    2.0\n",
       "2  The first fatal airplane accident in Canada oc...    2.0\n",
       "3  The airship flew into a thunderstorm and encou...    2.0\n",
       "4  Hydrogen gas which was being vented was sucked...    2.0"
      ]
     },
     "execution_count": 925,
     "metadata": {},
     "output_type": "execute_result"
    }
   ],
   "source": [
    "cluster_df.head()"
   ]
  },
  {
   "cell_type": "code",
   "execution_count": 939,
   "id": "df1a8886",
   "metadata": {},
   "outputs": [
    {
     "data": {
      "text/plain": [
       "Summary    390\n",
       "model      390\n",
       "dtype: int64"
      ]
     },
     "execution_count": 939,
     "metadata": {},
     "output_type": "execute_result"
    }
   ],
   "source": [
    "cluster_df.isna().sum()"
   ]
  },
  {
   "cell_type": "code",
   "execution_count": 945,
   "id": "4d6fca2c",
   "metadata": {},
   "outputs": [],
   "source": [
    "df['cluster_label'] = cluster_df['model']"
   ]
  },
  {
   "cell_type": "code",
   "execution_count": 947,
   "id": "1d824e6e",
   "metadata": {},
   "outputs": [],
   "source": [
    "fill_df = df.fillna('unknown')"
   ]
  },
  {
   "cell_type": "code",
   "execution_count": 949,
   "id": "f1c84306",
   "metadata": {},
   "outputs": [],
   "source": [
    "fill_df.to_excel('complete.xlsx')"
   ]
  },
  {
   "cell_type": "code",
   "execution_count": 950,
   "id": "020421a6",
   "metadata": {},
   "outputs": [],
   "source": [
    "df.to_excel('incomplete.xlsx')"
   ]
  },
  {
   "cell_type": "code",
   "execution_count": null,
   "id": "459aab65",
   "metadata": {},
   "outputs": [],
   "source": []
  }
 ],
 "metadata": {
  "kernelspec": {
   "display_name": "Python 3 (ipykernel)",
   "language": "python",
   "name": "python3"
  },
  "language_info": {
   "codemirror_mode": {
    "name": "ipython",
    "version": 3
   },
   "file_extension": ".py",
   "mimetype": "text/x-python",
   "name": "python",
   "nbconvert_exporter": "python",
   "pygments_lexer": "ipython3",
   "version": "3.8.11"
  }
 },
 "nbformat": 4,
 "nbformat_minor": 5
}
